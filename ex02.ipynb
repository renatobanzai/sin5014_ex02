{
 "cells": [
  {
   "cell_type": "markdown",
   "id": "4901590e",
   "metadata": {},
   "source": [
    "## Exercício - 2\n",
    "22/04/2021\n",
    "Renato Banzai - n. USP 3683321"
   ]
  },
  {
   "cell_type": "markdown",
   "id": "c6c718c7",
   "metadata": {},
   "source": [
    "1 - Construa um programa para implementar e mostrar o histograma de uma imagem qualquer. O algoritmo deve receber como parâmetro uma matriz que armazena o conjunto de pixels da imagem. Não podem ser usados métodos/funções prontos de bibliotecas para construir o vetor do histograma, mas podem ser usados métodos prontos para exibir (\"plotar\") o gráfico resultante."
   ]
  },
  {
   "cell_type": "code",
   "execution_count": 2,
   "id": "e3eb8023",
   "metadata": {},
   "outputs": [
    {
     "ename": "ModuleNotFoundError",
     "evalue": "No module named 'cv2'",
     "output_type": "error",
     "traceback": [
      "\u001b[0;31m---------------------------------------------------------------------------\u001b[0m",
      "\u001b[0;31mModuleNotFoundError\u001b[0m                       Traceback (most recent call last)",
      "\u001b[0;32m<ipython-input-2-64cc50e2a32d>\u001b[0m in \u001b[0;36m<module>\u001b[0;34m\u001b[0m\n\u001b[0;32m----> 1\u001b[0;31m \u001b[0;32mimport\u001b[0m \u001b[0mcv2\u001b[0m\u001b[0;34m\u001b[0m\u001b[0;34m\u001b[0m\u001b[0m\n\u001b[0m\u001b[1;32m      2\u001b[0m \u001b[0;32mimport\u001b[0m \u001b[0mmatplotlib\u001b[0m\u001b[0;34m.\u001b[0m\u001b[0mpyplot\u001b[0m \u001b[0;32mas\u001b[0m \u001b[0mplt\u001b[0m\u001b[0;34m\u001b[0m\u001b[0;34m\u001b[0m\u001b[0m\n\u001b[1;32m      3\u001b[0m \u001b[0;34m\u001b[0m\u001b[0m\n\u001b[1;32m      4\u001b[0m \u001b[0;32mdef\u001b[0m \u001b[0mshow_histogram\u001b[0m\u001b[0;34m(\u001b[0m\u001b[0mimage_matrix\u001b[0m\u001b[0;34m,\u001b[0m \u001b[0mhistogram_title\u001b[0m\u001b[0;34m)\u001b[0m\u001b[0;34m:\u001b[0m\u001b[0;34m\u001b[0m\u001b[0;34m\u001b[0m\u001b[0m\n\u001b[1;32m      5\u001b[0m     \u001b[0mlines\u001b[0m \u001b[0;34m=\u001b[0m \u001b[0mlen\u001b[0m\u001b[0;34m(\u001b[0m\u001b[0mimage_matrix\u001b[0m\u001b[0;34m)\u001b[0m\u001b[0;34m\u001b[0m\u001b[0;34m\u001b[0m\u001b[0m\n",
      "\u001b[0;31mModuleNotFoundError\u001b[0m: No module named 'cv2'"
     ]
    }
   ],
   "source": [
    "import cv2\n",
    "import matplotlib.pyplot as plt\n",
    "\n",
    "def show_histogram(image_matrix, histogram_title):\n",
    "    lines = len(image_matrix)\n",
    "    columns = len(image_matrix[0])\n",
    "    max_contrast_resolution = 256\n",
    "    # creates a vector with a position for each gray level\n",
    "    histogram_values = [0 for x in range(max_contrast_resolution)]\n",
    "\n",
    "    # Run each pixel of the image matrix\n",
    "    for line in range(lines):\n",
    "        for column in range(columns):\n",
    "            pixel_value = image_matrix[line, column]\n",
    "            histogram_values[pixel_value] += 1\n",
    "\n",
    "    plt.title(histogram_title)\n",
    "    plt.ylabel(\"Quantidade de Pixels\")\n",
    "    plt.xlabel(\"Níveis de Cinza\")\n",
    "\n",
    "    # Plots the histogram\n",
    "    plt.bar(x=list(range(max_contrast_resolution)),\n",
    "            height=histogram_values,\n",
    "            width=1)\n",
    "    # shows the plot    \n",
    "    plt.show()"
   ]
  },
  {
   "cell_type": "code",
   "execution_count": null,
   "id": "1c8a101e",
   "metadata": {},
   "outputs": [],
   "source": [
    "# Imagem Original\n",
    "img_bird = cv2.imread(\"bird.png\", 0)\n",
    "plt.imshow(img_bird, cmap='gray', vmin=0, vmax=255)\n",
    "plt.title(\"Imagem Original\")\n",
    "plt.show()\n",
    "\n",
    "# Histograma\n",
    "show_histogram(img_bird, \"Histograma da Imagem Original\")"
   ]
  },
  {
   "cell_type": "markdown",
   "id": "c868e5e8",
   "metadata": {},
   "source": [
    "2 - Implemente um programa (método, procedimento, função) em qualquer linguagem de programação que receba uma imagem e a exiba com todos os pixels mais claros ou mais escuros. O nível de clareamento ou escurecimento, assim como a matriz de pixels, devem ser recebidos como parâmetros."
   ]
  },
  {
   "cell_type": "code",
   "execution_count": null,
   "id": "94418b69",
   "metadata": {},
   "outputs": [],
   "source": [
    "import cv2\n",
    "import matplotlib.pyplot as plt\n",
    "\n",
    "def change_bright(image_matrix, change_value):\n",
    "    lines = len(image_matrix)\n",
    "    columns = len(image_matrix[0])\n",
    "    # Run each pixel of the image matrix\n",
    "    for line in range(lines):\n",
    "        for column in range(columns):\n",
    "            # avoid to go less than the min of scale (0)\n",
    "            if image_matrix[line, column] + change_value < 0:\n",
    "                image_matrix[line, column] = 0\n",
    "            else:\n",
    "                # avoid to go upper to max of scale (255)\n",
    "                if image_matrix[line, column] + change_value > 255:\n",
    "                    image_matrix[line, column] = 255\n",
    "                else:\n",
    "                    image_matrix[line, column] += change_value    \n",
    "    \n",
    "    #Show the image with matplotlib\n",
    "    plt.title(\"Mudança de brilho: \" + str(change_value))\n",
    "    plt.imshow(image_matrix, cmap='gray', vmin=0, vmax=255)\n",
    "    plt.show()"
   ]
  },
  {
   "cell_type": "code",
   "execution_count": null,
   "id": "36f18136",
   "metadata": {},
   "outputs": [],
   "source": [
    "# Imagem Original\n",
    "img_bird = cv2.imread(\"bird.png\", 0)\n",
    "plt.title(\"Imagem Original\")\n",
    "plt.imshow(img_bird, cmap='gray', vmin=0, vmax=255)\n",
    "plt.show()\n",
    "show_histogram(img_bird, \"Histograma da Imagem Original\")\n",
    "\n",
    "# Mudança do brilho + 50\n",
    "change_bright(img_bird, 50)\n",
    "show_histogram(img_bird, \"Histograma da Imagem Com Brilho +50\")\n",
    "\n",
    "\n",
    "img_bird = cv2.imread(\"bird.png\", 0)\n",
    "# Mudança do brilho - 50\n",
    "change_bright(img_bird, -50)\n",
    "show_histogram(img_bird, \"Histograma da Imagem Com Brilho -50\")\n"
   ]
  },
  {
   "cell_type": "markdown",
   "id": "a2f12108",
   "metadata": {},
   "source": [
    "### Considerações\n",
    "O filtro implementado recebe como parâmetros a matriz de uma imagem em escala de cinza e utiliza o parâmetro change_value para definir se irá clarear ou escurecer a imagem. Caso o change_value seja de valor positivo, será adicionado seu valor a cada pixel, fazendo com que se aproximem do valor máximo de contraste (255) que equivale ao branco. Caso o valor seja negativo, cada pixel terá subtraído tal valor e consequentemente se aproximará do valor mínimo de contraste (0) que equivale ao preto."
   ]
  },
  {
   "cell_type": "markdown",
   "id": "3944e3b1",
   "metadata": {},
   "source": [
    "3 - Continuar a implementação do programa iniciado no exercício anterior, incluindo um desses filtros (você escolhe):\n",
    "\n",
    "média\n",
    "mediana\n",
    "equalização (x)"
   ]
  },
  {
   "cell_type": "code",
   "execution_count": null,
   "id": "8eb8e9cf",
   "metadata": {},
   "outputs": [],
   "source": [
    "import cv2\n",
    "import matplotlib.pyplot as plt\n",
    "\n",
    "def equalization_filter(image_matrix):\n",
    "    lines = len(image_matrix)\n",
    "    columns = len(image_matrix[0])\n",
    "    max_contrast_resolution = 256\n",
    "    # creates a vector with a position for each frequency of gray level\n",
    "    frequency_gray_levels = [0 for x in range(max_contrast_resolution)]\n",
    "    # Run each pixel of the image matrix to get each frequency\n",
    "    for line in range(lines):\n",
    "        for column in range(columns):\n",
    "            pixel_gray_level = image_matrix[line, column]\n",
    "            frequency_gray_levels[pixel_gray_level] += 1\n",
    "\n",
    "    cumulative_value = 0\n",
    "    # creates a vector with a position for each cumulative frequency of a gray level\n",
    "    cumulative_frequency_gray_levels = [0 for x in range(max_contrast_resolution)]\n",
    "    gray_level = 0\n",
    "    # run each frequency to determine the cumulative frequency\n",
    "    for gray_level in range(max_contrast_resolution):\n",
    "        cumulative_value += frequency_gray_levels[gray_level]\n",
    "        cumulative_frequency_gray_levels[gray_level] = cumulative_value\n",
    "\n",
    "    # in class slide, the I\n",
    "    ideal_pixels_number = lines * columns / max_contrast_resolution\n",
    "\n",
    "    # create a dictionary for each gray level with the equalization value\n",
    "    equalization_values = {}\n",
    "\n",
    "    for gray_level in range(max_contrast_resolution):\n",
    "        cumulative_frequency = cumulative_frequency_gray_levels[gray_level]\n",
    "        equalization_value = max(0, (round((cumulative_frequency/ideal_pixels_number))-1))\n",
    "        equalization_values[gray_level] = equalization_value\n",
    "\n",
    "    # apply the equalization to each images pixel\n",
    "    for line in range(lines):\n",
    "        for column in range(columns):\n",
    "            image_matrix[line, column] = equalization_values[image_matrix[line, column]]\n",
    "\n",
    "    # Show the image with matplotlib\n",
    "    plt.title(\"Equalization Filter\")\n",
    "    plt.imshow(image_matrix, cmap='gray', vmin=0, vmax=255)\n",
    "    plt.show()"
   ]
  },
  {
   "cell_type": "code",
   "execution_count": null,
   "id": "cdc09eb1",
   "metadata": {},
   "outputs": [],
   "source": [
    "# Imagem Original\n",
    "img_bird = cv2.imread(\"bird.png\", 0)\n",
    "plt.title(\"Imagem Original\")\n",
    "plt.imshow(img_bird, cmap='gray', vmin=0, vmax=255)\n",
    "plt.show()\n",
    "show_histogram(img_bird, \"Histograma da Imagem Original\")\n",
    "\n",
    "# Aplicando o filtro de Equalização\n",
    "equalization_filter(img_bird)\n",
    "show_histogram(img_bird, \"Histograma da Imagem com Filtro de Equalização\")"
   ]
  },
  {
   "cell_type": "markdown",
   "id": "c69dc4c5",
   "metadata": {},
   "source": [
    "### Considerações\n",
    "O filtro implementado realça a imagem diminuindo a quantidade de tons intermediários e distribuindo as cores que permanecem em distâncias maiores, criando um efeito de "
   ]
  }
 ],
 "metadata": {
  "kernelspec": {
   "display_name": "Python 3",
   "language": "python",
   "name": "python3"
  },
  "language_info": {
   "codemirror_mode": {
    "name": "ipython",
    "version": 3
   },
   "file_extension": ".py",
   "mimetype": "text/x-python",
   "name": "python",
   "nbconvert_exporter": "python",
   "pygments_lexer": "ipython3",
   "version": "3.8.5"
  }
 },
 "nbformat": 4,
 "nbformat_minor": 5
}
