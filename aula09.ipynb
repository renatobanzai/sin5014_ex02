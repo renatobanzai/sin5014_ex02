{
 "cells": [
  {
   "cell_type": "code",
   "execution_count": 48,
   "id": "06446b8c",
   "metadata": {},
   "outputs": [],
   "source": [
    "import cv2\n",
    "import numpy as np\n",
    "import math\n",
    "def get_signature(img, centroid_x, centroid_y, precision):\n",
    "    result = {}\n",
    "    angle_list = [0]\n",
    "    angle = 0\n",
    "    # calculating all angle points\n",
    "    for point in range(precision - 1 ):\n",
    "        angle += (2/precision) * np.pi\n",
    "        angle_list.append(angle)        \n",
    "    print(angle_list)\n",
    "    \n",
    "    for theta in angle_list:        \n",
    "        bg_color = 255\n",
    "        sin = math.sin(theta)\n",
    "        cos = math.cos(theta)        \n",
    "        size = 0\n",
    "        x = centroid_x\n",
    "        y = centroid_y\n",
    "        while (int(img[x-1, y+1])\n",
    "               + int(img[x-1, y])\n",
    "               + int(img[x-1, y-1])\n",
    "               + int(img[x, y+1])\n",
    "               + int(img[x, y])\n",
    "               + int(img[x, y-1])\n",
    "               + int(img[x+1, y+1])\n",
    "               + int(img[x+1, y])\n",
    "               + int(img[x+1, y-1])\n",
    "              ) == (bg_color * 9) :            \n",
    "            size += 1\n",
    "            x = centroid_x + int(size * cos)\n",
    "            y = centroid_y + int(size * sin)\n",
    "            #print(\"theta\", theta, \"size\", size, \"x\", x, \"y\", y)\n",
    "        result[theta] = size                    \n",
    "    return result"
   ]
  },
  {
   "cell_type": "code",
   "execution_count": 52,
   "id": "6a77a223",
   "metadata": {},
   "outputs": [
    {
     "name": "stdout",
     "output_type": "stream",
     "text": [
      "[0, 0.7853981633974483, 1.5707963267948966, 2.356194490192345, 3.141592653589793, 3.9269908169872414, 4.71238898038469, 5.497787143782138]\n"
     ]
    },
    {
     "data": {
      "text/plain": [
       "{0: 29,\n",
       " 0.7853981633974483: 23,\n",
       " 1.5707963267948966: 20,\n",
       " 2.356194490192345: 22,\n",
       " 3.141592653589793: 25,\n",
       " 3.9269908169872414: 29,\n",
       " 4.71238898038469: 29,\n",
       " 5.497787143782138: 32}"
      ]
     },
     "execution_count": 52,
     "metadata": {},
     "output_type": "execute_result"
    }
   ],
   "source": [
    "img = cv2.imread(\"exerc2a.bmp\", 0)\n",
    "get_signature(img, 50, 50, 8)\n",
    "# looking for centroid\n",
    "\n"
   ]
  }
 ],
 "metadata": {
  "kernelspec": {
   "display_name": "Python 3",
   "language": "python",
   "name": "python3"
  },
  "language_info": {
   "codemirror_mode": {
    "name": "ipython",
    "version": 3
   },
   "file_extension": ".py",
   "mimetype": "text/x-python",
   "name": "python",
   "nbconvert_exporter": "python",
   "pygments_lexer": "ipython3",
   "version": "3.8.5"
  }
 },
 "nbformat": 4,
 "nbformat_minor": 5
}
